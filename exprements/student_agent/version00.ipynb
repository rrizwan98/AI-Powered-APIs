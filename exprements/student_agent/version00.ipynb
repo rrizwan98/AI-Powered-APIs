{
 "cells": [
  {
   "cell_type": "code",
   "execution_count": 2,
   "metadata": {},
   "outputs": [],
   "source": [
    "import requests\n",
    "import folium\n",
    "from IPython.display import display, HTML, clear_output\n",
    "import webbrowser\n",
    "from folium import plugins\n",
    "import requests\n",
    "import os\n",
    "import json\n",
    "from IPython.display import display, HTML\n",
    "from dotenv import load_dotenv, find_dotenv"
   ]
  },
  {
   "cell_type": "code",
   "execution_count": null,
   "metadata": {},
   "outputs": [],
   "source": [
    "# !pip install --upgrade openai"
   ]
  },
  {
   "cell_type": "code",
   "execution_count": null,
   "metadata": {},
   "outputs": [],
   "source": [
    "from dotenv import load_dotenv, find_dotenv\n",
    "\n",
    "load_dotenv()\n",
    "\n",
    "OPENAI_API_KEY = os.getenv(\"OPENAI_API_KEY\")"
   ]
  },
  {
   "cell_type": "code",
   "execution_count": null,
   "metadata": {},
   "outputs": [],
   "source": []
  },
  {
   "cell_type": "code",
   "execution_count": null,
   "metadata": {},
   "outputs": [],
   "source": []
  },
  {
   "cell_type": "code",
   "execution_count": 4,
   "metadata": {},
   "outputs": [
    {
     "name": "stdout",
     "output_type": "stream",
     "text": [
      "plant diseases [' {{\\n    \"plant_disease\": \"No plant diseases found. Your plant looks healthy.\",\\n    \"solution\": \"None\"\\n}}']\n",
      "recognize (flowers, bushes, fungi, cacti, succulents, and mushrooms) \n",
      " [' ```json\\n{\\n  \"This is\": \"succulent\",\\n  \"succulent name\": \"echeveria\"\\n}\\n```']\n",
      "recognize poisonous plant bases on location \n",
      " ['{\\n    \"poisonous_plant\": \"Poison Ivy (Toxicodendron radic', 'ans)\",\\n    \"risks\": \"Exposure to Poison Ivy can cause severe skin irritation, characterized by intense itching, redness, and blistering. It contains urush', 'iol, an oily resin that triggers an allergic reaction upon contact with human skin.\",\\n    \"safety_recommendations\": \"To ensure safety, follow these steps:\\n                              1. Avoid contact with Poison Ivy, especially during the spring and summer months when the plant is actively growing.\\n                              2. If contact occurs,', ' promptly wash the affected area with soap and water.\\n                              3. Apply a cool compress or calamine lotion to relieve itching and reduce inflammation.\\n                              4. Seek medical attention if the rash is severe or widespread.\"\\n}']\n",
      "Image URL: https://watermark.lovepik.com/photo/20211122/large/lovepik-the-balcony-terrace-is-photographed-in-real-life-picture_500685494.jpg\n",
      "plant and flower recommendation \n",
      " [' {\\n  \"location_type\": \"Balcony\",\\n  \"suitability\": \"Suitable for both flowers and plants\",\\n  \"recommendations\":', ' {\\n      \"flowers\": [\\n          \"Geranium\",\\n          \"Petunia\",\\n          \"Marigold\"\\n      ],\\n      \"plants', '\": [\\n          \"Snake Plant\",\\n          \"ZZ Plant\",\\n          \"Peace Lily\"\\n      ]\\n  },\\n  \"quantity_insights\": \"For a balcony of this size, it is recommended to have 3-4 flower pots and 2-3 plant pots. This will ensure that', ' the space is not cluttered and that each plant has enough room to grow.\",\\n  \"reasoning\": \"The balcony gets plenty of sunlight, which is essential for most flowers and plants. The space is also well-ventilated, which will help to prevent diseases and pests. The balcony is also protected from the wind, which can damage plants.\"\\n}']\n"
     ]
    }
   ],
   "source": [
    "print(\"plant diseases\",rec_plant_diseases(\"https://cdn.shopify.com/s/files/1/0579/7924/0580/t/18/assets/buy-mint-plants-step-4_1.jpg\"))        #pass the image url \n",
    "print(\"recognize (flowers, bushes, fungi, cacti, succulents, and mushrooms) \\n\",recognize_plants(\"https://dukaan.b-cdn.net/700x700/webp/730950/570a0a01-8039-4174-b518-9bf54edfe5fb/img-0348-4f923a91-eb5f-4685-9252-067786e91346.JPEG\"))          #pass the image url\n",
    "print(\"recognize poisonous plant bases on location \\n\",poisonous_plant(\"new york park\"))     #pass the location str:(\"nigeria\")\n",
    "print(\"plant and flower recommendation \\n\",recommendation(\"https://watermark.lovepik.com/photo/20211122/large/lovepik-the-balcony-terrace-is-photographed-in-real-life-picture_500685494.jpg\"))              #pass the image url\n"
   ]
  },
  {
   "cell_type": "code",
   "execution_count": 5,
   "metadata": {},
   "outputs": [],
   "source": [
    "from openai import OpenAI\n",
    "from dotenv import load_dotenv, find_dotenv\n",
    "import os\n",
    "\n",
    "# _ : bool = load_dotenv(find_dotenv()) # read local .env file\n",
    "\n",
    "client : OpenAI = OpenAI(api_key=OPENAI_API_KEY)"
   ]
  },
  {
   "cell_type": "code",
   "execution_count": 6,
   "metadata": {},
   "outputs": [],
   "source": [
    "# Map available functions\n",
    "available_functions = {\n",
    "    \"get_plant_diseases\": rec_plant_diseases,\n",
    "    \"get_recognize_plants\": recognize_plants,\n",
    "    \"get_poisonous_plant\": poisonous_plant,\n",
    "    \"get_recommendation\": recommendation\n",
    "}"
   ]
  },
  {
   "cell_type": "code",
   "execution_count": 7,
   "metadata": {},
   "outputs": [],
   "source": [
    "bot_instructions = \"\"\"your task is to recognize plant diseases, poisonous_plant, flower and plants recommendation and \n",
    "identify flowers, bushes, fungi, cacti, succulents, and mushrooms\n",
    "We will provide APIs for all plant diseases, poisonous_plant, flower and plants recommendation and \n",
    "identify (flowers, bushes, fungi, cacti, succulents, and mushrooms.). You will receive the necessary information from the API response.\"\n",
    "\n",
    "if any other agriculture Qurey you can answer them. \"If user asks a question about anything other than agriculture, respond with: 'This is an agriculture chatbot. Feel free to ask any questions about agriculture!'\" \n",
    "\"\"\""
   ]
  },
  {
   "cell_type": "code",
   "execution_count": 8,
   "metadata": {},
   "outputs": [],
   "source": [
    "tools = [\n",
    "    {\n",
    "        \"type\": \"function\",\n",
    "        \"function\": {\n",
    "            \"name\": \"get_plant_diseases\",\n",
    "            \"parameters\": {\n",
    "                \"type\": \"object\",\n",
    "                \"properties\": {\n",
    "                    \"image_url\": {\"type\": \"string\"},\n",
    "                },\n",
    "                \"required\": [\"image_url\"],\n",
    "            }\n",
    "        }\n",
    "    },\n",
    "    {\n",
    "        \"type\": \"function\",\n",
    "        \"function\": {\n",
    "            \"name\": \"get_recognize_plants\",\n",
    "            \"parameters\": {\n",
    "                \"type\": \"object\",\n",
    "                \"properties\": {\n",
    "                    \"image_url\": {\"type\": \"string\"},\n",
    "                },\n",
    "                \"required\": [\"image_url\"],\n",
    "            }\n",
    "        }\n",
    "    },\n",
    "    {\n",
    "        \"type\": \"function\",\n",
    "        \"function\": {\n",
    "            \"name\": \"get_poisonous_plant\",\n",
    "            \"parameters\": {\n",
    "                \"type\": \"object\",\n",
    "                \"properties\": {\n",
    "                    \"location\": {\"type\": \"string\"},\n",
    "                },\n",
    "                \"required\": [\"location\"],\n",
    "            }\n",
    "        }\n",
    "    },\n",
    "    {\n",
    "        \"type\": \"function\",\n",
    "        \"function\": {\n",
    "            \"name\": \"get_recommendation\",\n",
    "            \"parameters\": {\n",
    "                \"type\": \"object\",\n",
    "                \"properties\": {\n",
    "                    \"image_url\": {\"type\": \"string\"},\n",
    "                },\n",
    "                \"required\": [\"image_url\"],\n",
    "            }\n",
    "        }\n",
    "    },\n",
    "]"
   ]
  },
  {
   "cell_type": "code",
   "execution_count": 16,
   "metadata": {},
   "outputs": [],
   "source": [
    "# A Class to Manage All Open API Assistant Calls and Functions\n",
    "from openai.types.beta.threads import Run, ThreadMessage\n",
    "from openai.types.beta.thread import Thread\n",
    "from openai.types.beta.assistant_create_params import Tool\n",
    "\n",
    "import time\n",
    "\n",
    "class AgricultureAssistantManager:\n",
    "    def __init__(self, model: str = \"gpt-3.5-turbo-1106\"):\n",
    "        self.client = OpenAI()\n",
    "        self.model = model\n",
    "        self.assistant = None\n",
    "        self.thread = None\n",
    "        self.run = None\n",
    "\n",
    "    def create_assistant(self, name: str, instructions: str, tools: list[Tool]) -> None:\n",
    "        self.assistant = self.client.beta.assistants.create(\n",
    "            name=name,\n",
    "            instructions=instructions,\n",
    "            tools=tools,\n",
    "            model=self.model\n",
    "        )\n",
    "\n",
    "    def create_thread(self) -> Thread:\n",
    "        self.thread = self.client.beta.threads.create()\n",
    "        return self.thread\n",
    "\n",
    "    def add_message_to_thread(self, role: str, content: str) -> None:\n",
    "        self.client.beta.threads.messages.create(\n",
    "            thread_id=self.thread.id,\n",
    "            role=role,\n",
    "            content=content\n",
    "        )\n",
    "\n",
    "    def run_assistant(self, instructions: str) -> Run:\n",
    "        self.run = self.client.beta.threads.runs.create(\n",
    "            thread_id=self.thread.id,\n",
    "            assistant_id=self.assistant.id,\n",
    "            instructions=instructions\n",
    "        )\n",
    "        return self.run\n",
    "\n",
    "    def wait_for_completion(self, run: Run, thread: Thread) -> Run:\n",
    "\n",
    "        while run.status in [\"in_progress\", \"queued\"]:\n",
    "            run_status = self.client.beta.threads.runs.retrieve(\n",
    "                thread_id=self.thread.id,\n",
    "                run_id=self.run.id\n",
    "            )\n",
    "            print(f\"Run is {run.status}. Waiting...\")\n",
    "            time.sleep(3)  # Wait for 3 seconds before checking again\n",
    "\n",
    "            if run_status.status == 'completed':\n",
    "                processed_response = self.process_messages()\n",
    "                return processed_response\n",
    "                # break\n",
    "            elif run_status.status == 'requires_action':\n",
    "                print(\"Function Calling ...\")\n",
    "                self.call_required_functions(run_status.required_action.submit_tool_outputs.model_dump())\n",
    "            elif run.status == \"failed\":\n",
    "                print(\"Run failed.\")\n",
    "                break\n",
    "            else:\n",
    "                print(f\"Waiting for the Assistant to process...: {run.status}\")\n",
    "\n",
    "    def process_messages(self) -> list[ThreadMessage]:\n",
    "        messages: list[ThreadMessage] = self.client.beta.threads.messages.list(thread_id=self.thread.id)\n",
    "        return messages\n",
    "\n",
    "    def call_required_functions(self, required_actions: dict):\n",
    "        tool_outputs = []\n",
    "\n",
    "        for action in required_actions[\"tool_calls\"]:\n",
    "            function_name = action['function']['name']\n",
    "            arguments = json.loads(action['function']['arguments'])\n",
    "            print('function_name', function_name)\n",
    "            print('function_arguments', arguments)\n",
    "\n",
    "            if function_name in available_functions:\n",
    "                function_to_call = available_functions[function_name]\n",
    "                output = function_to_call(**arguments)\n",
    "\n",
    "                # Serialize output to a string if it's not already one\n",
    "                if not isinstance(output, str):\n",
    "                    output = json.dumps(output)\n",
    "\n",
    "                tool_outputs.append({\n",
    "                    \"tool_call_id\": action['id'],\n",
    "                    \"output\": output,  # This is now ensured to be a string\n",
    "                })\n",
    "\n",
    "            else:\n",
    "                raise ValueError(f\"Unknown function: {function_name}\")\n",
    "\n",
    "        print(\"Submitting outputs back to the Assistant...\")\n",
    "        self.client.beta.threads.runs.submit_tool_outputs(\n",
    "            thread_id=self.thread.id,\n",
    "            run_id=self.run.id,\n",
    "            tool_outputs=tool_outputs\n",
    "        )\n"
   ]
  },
  {
   "cell_type": "code",
   "execution_count": 17,
   "metadata": {},
   "outputs": [],
   "source": [
    "# Show Messages and Plot Images in Financial Analysis If ANY\n",
    "\n",
    "import requests\n",
    "from PIL import Image\n",
    "from IPython.display import Image, display\n",
    "\n",
    "\n",
    "def download_and_save_image(file_id: str, save_path: str) -> None:\n",
    "    \"\"\"\n",
    "    Downloads an image from OpenAI using its file ID and saves it to the specified path.\n",
    "\n",
    "    Args:\n",
    "    - file_id (str): The ID of the file to download.\n",
    "    - save_path (str): The path where the image will be saved.\n",
    "\n",
    "    Returns:\n",
    "    - None\n",
    "    \"\"\"\n",
    "    # Construct the URL to download the image\n",
    "    download_url = f\"https://api.openai.com/v1/files/{file_id}/content\"\n",
    "\n",
    "    # Perform the HTTP GET request to download the image\n",
    "    response = requests.get(download_url, headers={\"Authorization\": f'Bearer {os.getenv(\"OPENAI_API_KEY\")}'})\n",
    "\n",
    "    # Check if the request was successful\n",
    "    if response.status_code == 200:\n",
    "        # Write the image to the specified file\n",
    "        with open(save_path, 'wb') as file:\n",
    "            file.write(response.content)\n",
    "        print(f\"Image downloaded and saved to {save_path}\")\n",
    "    else:\n",
    "        print(f\"Failed to download image: HTTP Status Code {response.status_code}\")\n",
    "\n",
    "\n",
    "def pretty_print(messages: list[ThreadMessage]) -> None:\n",
    "    print(\"# Messages\")\n",
    "    for message in messages.data:\n",
    "        role_label = \"User\" if message.role == \"user\" else \"Assistant\"\n",
    "        # Check the type of message content and handle accordingly\n",
    "        for content in message.content:\n",
    "            if content.type == \"text\":\n",
    "                message_content = content.text.value\n",
    "                print(f\"{role_label}: {message_content}\\n\")\n",
    "                print()\n",
    "            elif content.type == \"image_file\":\n",
    "                # Handle image file content, e.g., print the file ID or download the image\n",
    "                image_file_id = content.image_file.file_id\n",
    "                print(f\"{role_label}: Image file ID: {image_file_id}\")\n",
    "                # Define a path to save the image\n",
    "                image_save_path = f\"image_{image_file_id}.png\"\n",
    "                # Download and save the image\n",
    "                # print(f\"{role_label}: Image file ID: {image_file_id}\")\n",
    "                download_and_save_image(image_file_id, image_save_path)\n",
    "\n",
    "                # Display the image within Jupyter Notebook\n",
    "                display(Image(filename=image_save_path))\n",
    "\n",
    "                #   # Open and display the image\n",
    "                # try:\n",
    "                #     img = Image.open(image_save_path)\n",
    "                #     img.show()\n",
    "                # except IOError:\n",
    "                #     print(\"Error in opening the image file.\")"
   ]
  },
  {
   "cell_type": "code",
   "execution_count": 18,
   "metadata": {},
   "outputs": [],
   "source": [
    "def fmp_financial_analyst(prompt: str):\n",
    "    fmp_analyst = AgricultureAssistantManager()\n",
    "\n",
    "    fmp_analyst.create_assistant(\n",
    "        name=\"AgricultureAssistant\",\n",
    "        instructions=bot_instructions,\n",
    "        tools=tools\n",
    "    )\n",
    "\n",
    "    fmp_analyst.create_thread()\n",
    "\n",
    "    fmp_analyst.add_message_to_thread(\n",
    "        role=\"user\",\n",
    "        content=prompt\n",
    "    )\n",
    "\n",
    "    run = fmp_analyst.run_assistant(\n",
    "        instructions=bot_instructions\n",
    "    )\n",
    "\n",
    "    final_res = fmp_analyst.wait_for_completion(\n",
    "        run=run,\n",
    "        thread=fmp_analyst.thread\n",
    "    )\n",
    "\n",
    "    return final_res\n",
    "    "
   ]
  },
  {
   "cell_type": "code",
   "execution_count": 19,
   "metadata": {},
   "outputs": [],
   "source": [
    "# analysis1 = fmp_financial_analyst(\"Can you compare the financial health of Microsoft and Apple over the last years, focusing on their balance sheets and key financial ratios?\")"
   ]
  },
  {
   "cell_type": "code",
   "execution_count": 20,
   "metadata": {},
   "outputs": [],
   "source": [
    "# pretty_print(analysis1)"
   ]
  },
  {
   "cell_type": "markdown",
   "metadata": {},
   "source": [
    "## Visualize Microsoft vs. Googles's revenue & profitability"
   ]
  },
  {
   "cell_type": "code",
   "execution_count": 21,
   "metadata": {},
   "outputs": [
    {
     "name": "stdout",
     "output_type": "stream",
     "text": [
      "Run is queued. Waiting...\n",
      "Waiting for the Assistant to process...: queued\n",
      "Run is queued. Waiting...\n",
      "Waiting for the Assistant to process...: queued\n",
      "Run is queued. Waiting...\n",
      "Function Calling ...\n",
      "function_name get_recognize_plants\n",
      "function_arguments {'image_url': 'https://dukaan.b-cdn.net/700x700/webp/730950/570a0a01-8039-4174-b518-9bf54edfe5fb/img-0348-4f923a91-eb5f-4685-9252-067786e91346.JPEG'}\n",
      "Submitting outputs back to the Assistant...\n",
      "Run is queued. Waiting...\n",
      "Waiting for the Assistant to process...: queued\n",
      "Run is queued. Waiting...\n"
     ]
    }
   ],
   "source": [
    "response2 = fmp_financial_analyst(\"\"\"\n",
    "which plant do you see in this image?\n",
    "\"https://dukaan.b-cdn.net/700x700/webp/730950/570a0a01-8039-4174-b518-9bf54edfe5fb/img-0348-4f923a91-eb5f-4685-9252-067786e91346.JPEG\"\n",
    "\"\"\")"
   ]
  },
  {
   "cell_type": "code",
   "execution_count": 22,
   "metadata": {},
   "outputs": [
    {
     "name": "stdout",
     "output_type": "stream",
     "text": [
      "# Messages\n",
      "Assistant: The plant in the image is a succulent, specifically an Echeveria. If you have any more questions about succulents or any other plant-related queries, feel free to ask!\n",
      "\n",
      "\n",
      "User: \n",
      "which plant do you see in this image?\n",
      "\"https://dukaan.b-cdn.net/700x700/webp/730950/570a0a01-8039-4174-b518-9bf54edfe5fb/img-0348-4f923a91-eb5f-4685-9252-067786e91346.JPEG\"\n",
      "\n",
      "\n",
      "\n"
     ]
    }
   ],
   "source": [
    "pretty_print(response2)"
   ]
  },
  {
   "cell_type": "code",
   "execution_count": 23,
   "metadata": {},
   "outputs": [
    {
     "name": "stdout",
     "output_type": "stream",
     "text": [
      "Run is queued. Waiting...\n",
      "Waiting for the Assistant to process...: queued\n",
      "Run is queued. Waiting...\n",
      "Function Calling ...\n",
      "function_name get_poisonous_plant\n",
      "function_arguments {'location': 'new york park'}\n",
      "Submitting outputs back to the Assistant...\n",
      "Run is queued. Waiting...\n",
      "Waiting for the Assistant to process...: queued\n",
      "Run is queued. Waiting...\n",
      "Waiting for the Assistant to process...: queued\n",
      "Run is queued. Waiting...\n",
      "Waiting for the Assistant to process...: queued\n",
      "Run is queued. Waiting...\n"
     ]
    }
   ],
   "source": [
    "response2 = fmp_financial_analyst(\"\"\"\n",
    "poisonous plant in new york park\n",
    "\"\"\")"
   ]
  },
  {
   "cell_type": "code",
   "execution_count": 24,
   "metadata": {},
   "outputs": [
    {
     "name": "stdout",
     "output_type": "stream",
     "text": [
      "Run is queued. Waiting...\n",
      "Waiting for the Assistant to process...: queued\n",
      "Run is queued. Waiting...\n",
      "Function Calling ...\n",
      "function_name get_plant_diseases\n",
      "function_arguments {'image_url': 'https://www.almanac.com/sites/default/files/image_nodes/tomato-rust.jpg'}\n",
      "Submitting outputs back to the Assistant...\n",
      "Run is queued. Waiting...\n",
      "Waiting for the Assistant to process...: queued\n",
      "Run is queued. Waiting...\n"
     ]
    }
   ],
   "source": [
    "response3 = fmp_financial_analyst(\"\"\"\n",
    "what is Rust plant diseases describe in 10 words\n",
    "\"\"\")"
   ]
  },
  {
   "cell_type": "code",
   "execution_count": 25,
   "metadata": {},
   "outputs": [
    {
     "name": "stdout",
     "output_type": "stream",
     "text": [
      "# Messages\n",
      "Assistant: The poisonous plant found in New York parks is Poison Ivy (Toxicodendron radicans). Exposure to Poison Ivy can cause severe skin irritation, known as contact dermatitis. Symptoms include redness, itching, swelling, and blisters. The rash can be extremely uncomfortable and can take several weeks to heal. Children are at particular risk because their skin is more sensitive and they may not be aware of the dangers of the plant.\n",
      "\n",
      "Safety Recommendations:\n",
      "1. Learn to identify Poison Ivy and other poisonous plants common in your area.\n",
      "2. Wear long sleeves, pants, and gloves when working in areas where Poison Ivy may be present.\n",
      "3. If you come into contact with Poison Ivy, wash the area thoroughly with soap and water as soon as possible.\n",
      "4. Apply a calamine lotion or hydrocortisone cream to help relieve itching and inflammation.\n",
      "\n",
      "\n",
      "User: \n",
      "poisonous plant in new york park\n",
      "\n",
      "\n",
      "\n"
     ]
    }
   ],
   "source": [
    "pretty_print(response2)"
   ]
  },
  {
   "cell_type": "code",
   "execution_count": 26,
   "metadata": {},
   "outputs": [
    {
     "name": "stdout",
     "output_type": "stream",
     "text": [
      "# Messages\n",
      "Assistant: I apologize, but it seems that I encountered an issue while trying to retrieve information on Rust plant diseases. Please feel free to ask about any other plant diseases, or let me know if there's anything else I can assist you with!\n",
      "\n",
      "\n",
      "User: \n",
      "what is Rust plant diseases describe in 10 words\n",
      "\n",
      "\n",
      "\n"
     ]
    }
   ],
   "source": [
    "pretty_print(response3)"
   ]
  },
  {
   "cell_type": "code",
   "execution_count": 19,
   "metadata": {},
   "outputs": [
    {
     "name": "stdout",
     "output_type": "stream",
     "text": [
      "Run is queued. Waiting...\n",
      "Waiting for the Assistant to process...: queued\n",
      "Run is queued. Waiting...\n"
     ]
    }
   ],
   "source": [
    "response2 = fmp_financial_analyst(\"brif explain about financial modeling prep API explain in max 50 words\")"
   ]
  },
  {
   "cell_type": "code",
   "execution_count": 20,
   "metadata": {},
   "outputs": [
    {
     "name": "stdout",
     "output_type": "stream",
     "text": [
      "# Messages\n",
      "Assistant: The Financial Modeling Prep API provides access to comprehensive financial data, including income statements, balance sheets, cash flow statements, key metrics, financial ratios, and growth trends. It allows analysts to retrieve, analyze, and integrate fundamental financial data for various stocks and companies.\n",
      "\n",
      "\n",
      "User: brif explain about financial modeling prep API explain in max 50 words\n",
      "\n",
      "\n"
     ]
    }
   ],
   "source": [
    "pretty_print(response2)"
   ]
  },
  {
   "cell_type": "markdown",
   "metadata": {},
   "source": [
    "ask Question reather then function calling"
   ]
  },
  {
   "cell_type": "markdown",
   "metadata": {},
   "source": []
  }
 ],
 "metadata": {
  "kernelspec": {
   "display_name": "Python310",
   "language": "python",
   "name": "python3"
  },
  "language_info": {
   "codemirror_mode": {
    "name": "ipython",
    "version": 3
   },
   "file_extension": ".py",
   "mimetype": "text/x-python",
   "name": "python",
   "nbconvert_exporter": "python",
   "pygments_lexer": "ipython3",
   "version": "3.10.11"
  }
 },
 "nbformat": 4,
 "nbformat_minor": 2
}
